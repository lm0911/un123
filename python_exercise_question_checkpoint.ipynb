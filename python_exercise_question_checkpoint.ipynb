{
  "cells": [
    {
      "cell_type": "markdown",
      "metadata": {
        "id": "view-in-github",
        "colab_type": "text"
      },
      "source": [
        "<a href=\"https://colab.research.google.com/github/lm0911/un123/blob/main/python_exercise_question_checkpoint.ipynb\" target=\"_parent\"><img src=\"https://colab.research.google.com/assets/colab-badge.svg\" alt=\"Open In Colab\"/></a>"
      ]
    },
    {
      "cell_type": "markdown",
      "metadata": {
        "id": "3OqNDZz9PS0H"
      },
      "source": [
        "# 기본 연습 문제"
      ]
    },
    {
      "cell_type": "markdown",
      "metadata": {
        "id": "1QGHly9uPS0K"
      },
      "source": [
        "* Q) 4400명의 사람이 모였는데, 이들을 대상으로 20명씩 조를 만들려고 한다. 이 때 생성되는 조의 수는 몇 개인가?"
      ]
    },
    {
      "cell_type": "code",
      "execution_count": null,
      "metadata": {
        "id": "kgCwODMfPS0L",
        "outputId": "a7b467af-ef36-4a55-9fe6-414159b16722"
      },
      "outputs": [
        {
          "data": {
            "text/plain": [
              "220.0"
            ]
          },
          "execution_count": 1,
          "metadata": {},
          "output_type": "execute_result"
        }
      ],
      "source": [
        "4400 / 20"
      ]
    },
    {
      "cell_type": "markdown",
      "metadata": {
        "id": "hZYAaKZNPS0M"
      },
      "source": [
        "* Q) 4400명의 사람이 모였는데, 이들을 대상으로 30명씩 조를 만들려고 한다. 이 떄 생성되는 조의 수와 조에 편성이 안 되는 사람의 수는?"
      ]
    },
    {
      "cell_type": "code",
      "execution_count": null,
      "metadata": {
        "id": "SdSAqC1hPS0M",
        "outputId": "dae680f0-d676-4864-b3ad-426d1324c527"
      },
      "outputs": [
        {
          "name": "stdout",
          "output_type": "stream",
          "text": [
            "생성되는 조의 수는 146조이며, 남은 인원은 20명 입니다.\n"
          ]
        }
      ],
      "source": [
        "#변수 설정 전체, 조\n",
        "# 구하려는것이 2개 : 생성되는 조(몫), 남은 인원(나머지)\n",
        "\n",
        "a = 4400 // 30\n",
        "b = 4400 % 30\n",
        "\n",
        "print('생성되는 조의 수는 {}조이며, 남은 인원은 {}명 입니다.'.format(a,b))"
      ]
    },
    {
      "cell_type": "markdown",
      "metadata": {
        "id": "_BZ4bPmPPS0N"
      },
      "source": [
        "* Q)  국어 80점, 수학 55점, 영어 75점, 사회 80점 --> 이 사람의 평균을 구하는 코드를 작성하시오"
      ]
    },
    {
      "cell_type": "code",
      "execution_count": null,
      "metadata": {
        "id": "eeCkViG9PS0N",
        "outputId": "96a60b62-8e29-4371-9dc8-43e75f8eca8b"
      },
      "outputs": [
        {
          "name": "stdout",
          "output_type": "stream",
          "text": [
            "man의 평균점수는 72.5점 입니다.\n"
          ]
        }
      ],
      "source": [
        "#방법 1) 과목별 점수 다 더하고 과목수로 나누기\n",
        "#방법 2) 점수들에 대한 덩어리로 처리\n",
        "#방법 3) 그외 여러방법\n",
        "#--> 주어진 문제에대한 파이썬의 자료형을 본인이 정하기\n",
        "\n",
        "#방법 1\n",
        "#ko = 80\n",
        "#math = 55\n",
        "#english = 75\n",
        "#social = 80\n",
        "\n",
        "#avg = ()/4\n",
        "#print('평균 {}'.format(avg))\n",
        "\n",
        "#방법 2 과목별 점수들만 모아서\n",
        "\n",
        "#num = [10,20,30,40]\n",
        "#sum(num) / len(num)\n",
        "\n",
        "man = {'국어':80, '수학':55, '영어':75, '사회':80}\n",
        "\n",
        "aver = sum(man.values())/len(man)\n",
        "print(\"{}의 평균점수는 {}점 입니다.\".format('man',aver))"
      ]
    },
    {
      "cell_type": "markdown",
      "metadata": {
        "id": "tOu0kgVcPS0O"
      },
      "source": [
        "* Q)  국어 80점, 수학 55점, 영어 75점, 사회 80점 --> 이 사람의 평균을 구하는 코드를 작성하시오   \n",
        "(단, 이번에는 input을 활용하여 입력받는 점수를 바탕으로 평균을 구하세요!)"
      ]
    },
    {
      "cell_type": "code",
      "execution_count": null,
      "metadata": {
        "id": "u7msCeQRPS0P",
        "outputId": "0e77a0e3-c2ec-48a7-8f61-03dbff2b87be"
      },
      "outputs": [
        {
          "name": "stdout",
          "output_type": "stream",
          "text": [
            "한국어 점수를 입력해주세요.!!20\n",
            "수학 점수를 입력해주세요.!!30\n",
            "영어 점수를 입력해주세요.!!50\n",
            "사회 점수를 입력해주세요.!!70\n",
            "4과목의 평균 점수는 42.5 점 입니다.\n"
          ]
        }
      ],
      "source": [
        "a = int(input('한국어 점수를 입력해주세요.!!'))\n",
        "b = int(input('수학 점수를 입력해주세요.!!'))\n",
        "c = int(input('영어 점수를 입력해주세요.!!'))\n",
        "d = int(input('사회 점수를 입력해주세요.!!'))\n",
        "\n",
        "tot = a + b+ c + d\n",
        "aver = tot / 4\n",
        "print('4과목의 평균 점수는 {} 점 입니다.'.format(aver))"
      ]
    },
    {
      "cell_type": "code",
      "execution_count": null,
      "metadata": {
        "id": "jgDLsikdPS0P",
        "outputId": "ac467603-2f10-4bc0-e4ac-fb818dd6f94b"
      },
      "outputs": [
        {
          "name": "stdout",
          "output_type": "stream",
          "text": [
            "국어점수를 입력하세요20\n",
            "수학점수를 입력하세요30\n",
            "영어점수를 입력하세요40\n",
            "과학점수를 입력하세요50\n",
            "과목평균 35.0\n"
          ]
        }
      ],
      "source": [
        "subjects = ['국어', '수학', '영어', '과학']\n",
        "zumsu = []\n",
        "for sub in subjects:\n",
        "    txt = sub+\"점수를 입력하세요\"\n",
        "    zumsu.append(int(input(txt)))\n",
        "print('과목평균',sum(zumsu)/len(zumsu))"
      ]
    },
    {
      "cell_type": "code",
      "execution_count": null,
      "metadata": {
        "id": "9Qg5MAS9PS0Q"
      },
      "outputs": [],
      "source": []
    },
    {
      "cell_type": "markdown",
      "metadata": {
        "id": "15J8Tv0lPS0Q"
      },
      "source": [
        "* Q) 주어진 수가 홀수인지, 아니면 짝수인지 판별할 수 있는 방법을 제시하여라."
      ]
    },
    {
      "cell_type": "code",
      "execution_count": null,
      "metadata": {
        "id": "KI3b9V96PS0Q",
        "outputId": "ebe7502d-c1e3-4bdc-c7b5-f68a46f5bcba",
        "colab": {
          "base_uri": "https://localhost:8080/",
          "height": 263
        }
      },
      "outputs": [
        {
          "name": "stdout",
          "output_type": "stream",
          "text": [
            "홀짝을 판단하고자 하는 수를 입력하세요.!ㄱ\n"
          ]
        },
        {
          "output_type": "error",
          "ename": "ValueError",
          "evalue": "ignored",
          "traceback": [
            "\u001b[0;31m---------------------------------------------------------------------------\u001b[0m",
            "\u001b[0;31mValueError\u001b[0m                                Traceback (most recent call last)",
            "\u001b[0;32m<ipython-input-5-39367dc1fad6>\u001b[0m in \u001b[0;36m<module>\u001b[0;34m\u001b[0m\n\u001b[0;32m----> 1\u001b[0;31m \u001b[0mnum\u001b[0m \u001b[0;34m=\u001b[0m \u001b[0mint\u001b[0m\u001b[0;34m(\u001b[0m\u001b[0minput\u001b[0m\u001b[0;34m(\u001b[0m\u001b[0;34m\"홀짝을 판단하고자 하는 수를 입력하세요.!\"\u001b[0m\u001b[0;34m)\u001b[0m\u001b[0;34m)\u001b[0m\u001b[0;34m\u001b[0m\u001b[0;34m\u001b[0m\u001b[0m\n\u001b[0m\u001b[1;32m      2\u001b[0m \u001b[0;32mif\u001b[0m \u001b[0mnum\u001b[0m\u001b[0;34m%\u001b[0m\u001b[0;36m2\u001b[0m \u001b[0;34m==\u001b[0m \u001b[0;36m0\u001b[0m\u001b[0;34m:\u001b[0m\u001b[0;31m#--> 비교연산자 주의\u001b[0m\u001b[0;34m\u001b[0m\u001b[0;34m\u001b[0m\u001b[0m\n\u001b[1;32m      3\u001b[0m     \u001b[0mprint\u001b[0m\u001b[0;34m(\u001b[0m\u001b[0;34m\"짝수입니다.\"\u001b[0m\u001b[0;34m)\u001b[0m\u001b[0;34m\u001b[0m\u001b[0;34m\u001b[0m\u001b[0m\n\u001b[1;32m      4\u001b[0m \u001b[0;32melif\u001b[0m \u001b[0mnum\u001b[0m\u001b[0;34m%\u001b[0m\u001b[0;36m2\u001b[0m \u001b[0;34m!=\u001b[0m \u001b[0;36m0\u001b[0m\u001b[0;34m:\u001b[0m\u001b[0;34m\u001b[0m\u001b[0;34m\u001b[0m\u001b[0m\n\u001b[1;32m      5\u001b[0m     \u001b[0mprint\u001b[0m\u001b[0;34m(\u001b[0m\u001b[0;34m\"홀수입니다.\"\u001b[0m\u001b[0;34m)\u001b[0m\u001b[0;34m\u001b[0m\u001b[0;34m\u001b[0m\u001b[0m\n",
            "\u001b[0;31mValueError\u001b[0m: invalid literal for int() with base 10: 'ㄱ'"
          ]
        }
      ],
      "source": [
        "\n",
        "num = int(input(\"홀짝을 판단하고자 하는 수를 입력하세요.!\"))\n",
        "if num%2 == 0:#--> 비교연산자 주의\n",
        "    print(\"짝수입니다.\")\n",
        "elif num%2 != 0:\n",
        "    print(\"홀수입니다.\")\n",
        "else :\n",
        "  print('입력한 수 다시 한번 확인')"
      ]
    },
    {
      "cell_type": "markdown",
      "metadata": {
        "id": "M2CU_9HWPS0Q"
      },
      "source": [
        "* Q) 주어진 수가 홀수인지, 아니면 짝수인지 판별할 수 있는 방법을 함수로 만들어보세요~ -> 바로 위의 문제에 대해서 함수로 만들어 보라는 의미임!"
      ]
    },
    {
      "cell_type": "code",
      "execution_count": null,
      "metadata": {
        "id": "y5kYn_YUPS0R",
        "outputId": "7c199324-6c50-47d4-d686-43e9311b5f35",
        "colab": {
          "base_uri": "https://localhost:8080/",
          "height": 35
        }
      },
      "outputs": [
        {
          "output_type": "execute_result",
          "data": {
            "text/plain": [
              "'짝수'"
            ],
            "application/vnd.google.colaboratory.intrinsic+json": {
              "type": "string"
            }
          },
          "metadata": {},
          "execution_count": 7
        }
      ],
      "source": [
        "#입력 : 숫자 1개 입력\n",
        "#무슨일 :입력한 숫자에 대한 홀짝 판별\n",
        "#출력 : 결과를 문자열로 제공\n",
        "\n",
        "\n",
        "def hol(num):\n",
        "    if num%2 == 0:\n",
        "        return '짝수'\n",
        "    elif num%2 == 1:\n",
        "        return '홀수'\n",
        "    return\n",
        "\n",
        "hol(40)"
      ]
    },
    {
      "cell_type": "markdown",
      "metadata": {
        "id": "ZWF4XjrOPS0R"
      },
      "source": [
        "* Q) a = [1, 2, 3, 4,5]라는 리스트를 만들고, 여기에다가 append, insert를 활용하여 a= [1,2,\"hello\",4,5,\"Hi\",\"Monday\"]를 만들어라"
      ]
    },
    {
      "cell_type": "code",
      "execution_count": null,
      "metadata": {
        "colab": {
          "base_uri": "https://localhost:8080/"
        },
        "id": "35x4lp7mPS0R",
        "outputId": "d3a10ca7-3c46-4ced-b464-1b118a2cd66f"
      },
      "outputs": [
        {
          "output_type": "stream",
          "name": "stdout",
          "text": [
            "[1, 2, 'hello', 4, 5, ' Hi', 'monday']\n"
          ]
        }
      ],
      "source": [
        "a = [1,2,3,4,5]\n",
        "a.pop(2)\n",
        "a.insert(2, 'hello')\n",
        "a.insert(5, ' Hi')\n",
        "a.append('monday')\n",
        "print(a)"
      ]
    },
    {
      "cell_type": "code",
      "source": [
        "#뒤에 한번에 붙이기\n",
        "a = [1,2,3,4,5]\n",
        "#a.append(['HI','Monday'])\n",
        "a.extend(['HI','Monday'])\n",
        "a"
      ],
      "metadata": {
        "colab": {
          "base_uri": "https://localhost:8080/"
        },
        "id": "3FUHqiF3fl-A",
        "outputId": "9ad10edb-f0e2-4d05-a29d-6681d6606faf"
      },
      "execution_count": null,
      "outputs": [
        {
          "output_type": "execute_result",
          "data": {
            "text/plain": [
              "[1, 2, 3, 4, 5, 'HI', 'Monday']"
            ]
          },
          "metadata": {},
          "execution_count": 9
        }
      ]
    },
    {
      "cell_type": "code",
      "source": [
        "#더 간단하게\n",
        "a = [1,2,3,4,5]\n",
        "#a.append(['HI','Monday'])\n",
        "#a.extend(['HI','Monday'])\n",
        "a = a + ['HI','Monday'] #변수 재할당해줘야 출력 가능 안그러면 a에 대한 리스트만 출력됨.\n",
        "a"
      ],
      "metadata": {
        "colab": {
          "base_uri": "https://localhost:8080/"
        },
        "id": "D1-DkiDMf9LG",
        "outputId": "d9f15d5b-1b91-4c4e-961d-984bc7809878"
      },
      "execution_count": null,
      "outputs": [
        {
          "output_type": "execute_result",
          "data": {
            "text/plain": [
              "[1, 2, 3, 4, 5, 'HI', 'Monday']"
            ]
          },
          "metadata": {},
          "execution_count": 10
        }
      ]
    },
    {
      "cell_type": "markdown",
      "metadata": {
        "id": "sOicd_thPS0R"
      },
      "source": [
        "* Q) 10을 2로 나눈 몫하고 210을 3으로 나눈 몫하고 같은지 비교하시오!"
      ]
    },
    {
      "cell_type": "code",
      "execution_count": null,
      "metadata": {
        "colab": {
          "base_uri": "https://localhost:8080/"
        },
        "id": "1jJvoE3PPS0S",
        "outputId": "b2e40271-2db7-48cd-e1bd-3112b7194fff"
      },
      "outputs": [
        {
          "output_type": "execute_result",
          "data": {
            "text/plain": [
              "True"
            ]
          },
          "metadata": {},
          "execution_count": 12
        }
      ],
      "source": [
        "# a = (10 // 2)\n",
        "# b = (210 // 3)\n",
        "# if a == b:\n",
        "#   print(\"나눈 몫은 {}으로 동일합니다.\".format(a))\n",
        "# else :\n",
        "#   print(\"동일하지 않습니다.\")\n",
        "\n",
        "(10//2) == (210//3)\n",
        "(10//2) != (210//3)"
      ]
    },
    {
      "cell_type": "markdown",
      "metadata": {
        "id": "nQjeDgkhPS0S"
      },
      "source": [
        "* Q) 12345를 4로 나눈 나머지하고, 54321을 2로 나눈 나머지하고 비교하시오!!!"
      ]
    },
    {
      "cell_type": "code",
      "execution_count": null,
      "metadata": {
        "colab": {
          "base_uri": "https://localhost:8080/"
        },
        "id": "oRzwAAsvPS0S",
        "outputId": "3f0ea1a2-10f2-4919-8c7a-e6503570db15"
      },
      "outputs": [
        {
          "output_type": "stream",
          "name": "stdout",
          "text": [
            "12345를 4로 나눈 나머지 1, 54321을 2로 나눈 나머지 1\n"
          ]
        }
      ],
      "source": [
        "a = 12345 % 4\n",
        "b = 54321 % 2\n",
        "print('12345를 4로 나눈 나머지 {}, 54321을 2로 나눈 나머지 {}'.format(a,b))"
      ]
    },
    {
      "cell_type": "markdown",
      "metadata": {
        "id": "sBS-PqzvPS0S"
      },
      "source": [
        "* a = [1, 2, 3, ['aa', 'bb', 'cc', ['hello', 'hi', 'hahaha']]] 에서 i를 접근해보세요. 정수 인덱스를 활용해서.."
      ]
    },
    {
      "cell_type": "code",
      "execution_count": null,
      "metadata": {
        "id": "fnD6vsrpPS0S",
        "outputId": "c7f02ce0-754e-4be0-8937-f044ca904804",
        "colab": {
          "base_uri": "https://localhost:8080/",
          "height": 209
        }
      },
      "outputs": [
        {
          "output_type": "error",
          "ename": "TypeError",
          "evalue": "ignored",
          "traceback": [
            "\u001b[0;31m---------------------------------------------------------------------------\u001b[0m",
            "\u001b[0;31mTypeError\u001b[0m                                 Traceback (most recent call last)",
            "\u001b[0;32m<ipython-input-14-8b28baaab99d>\u001b[0m in \u001b[0;36m<module>\u001b[0;34m\u001b[0m\n\u001b[1;32m      3\u001b[0m \u001b[0ma\u001b[0m \u001b[0;34m=\u001b[0m \u001b[0;34m[\u001b[0m\u001b[0;36m1\u001b[0m\u001b[0;34m,\u001b[0m \u001b[0;36m2\u001b[0m\u001b[0;34m,\u001b[0m \u001b[0;36m3\u001b[0m\u001b[0;34m,\u001b[0m \u001b[0;34m[\u001b[0m\u001b[0;34m'aa'\u001b[0m\u001b[0;34m,\u001b[0m \u001b[0;34m'bb'\u001b[0m\u001b[0;34m,\u001b[0m \u001b[0;34m'cc'\u001b[0m\u001b[0;34m,\u001b[0m \u001b[0;34m[\u001b[0m\u001b[0;34m'hello'\u001b[0m\u001b[0;34m,\u001b[0m \u001b[0;34m'hi'\u001b[0m\u001b[0;34m,\u001b[0m \u001b[0;34m'hahaha'\u001b[0m\u001b[0;34m]\u001b[0m\u001b[0;34m]\u001b[0m\u001b[0;34m]\u001b[0m\u001b[0;34m\u001b[0m\u001b[0;34m\u001b[0m\u001b[0m\n\u001b[1;32m      4\u001b[0m \u001b[0;32mfor\u001b[0m \u001b[0mi\u001b[0m \u001b[0;32min\u001b[0m \u001b[0ma\u001b[0m\u001b[0;34m:\u001b[0m\u001b[0;34m\u001b[0m\u001b[0;34m\u001b[0m\u001b[0m\n\u001b[0;32m----> 5\u001b[0;31m   \u001b[0mprint\u001b[0m\u001b[0;34m(\u001b[0m\u001b[0mi\u001b[0m\u001b[0;34m(\u001b[0m\u001b[0;34m[\u001b[0m\u001b[0mi\u001b[0m\u001b[0;34m]\u001b[0m\u001b[0;34m)\u001b[0m\u001b[0;34m)\u001b[0m\u001b[0;34m\u001b[0m\u001b[0;34m\u001b[0m\u001b[0m\n\u001b[0m",
            "\u001b[0;31mTypeError\u001b[0m: 'int' object is not callable"
          ]
        }
      ],
      "source": [
        "#인덱스 활용, 불편한점 : 인덱스가 계속 하위단으로 물고 들어가는 점\n",
        "#json 형식\n",
        "a = [1, 2, 3, ['aa', 'bb', 'cc', ['hello', 'hi', 'hahaha']]]\n",
        "for i in a:\n",
        "  print(i)\n"
      ]
    },
    {
      "cell_type": "code",
      "source": [
        "a = [1, 2, 3, ['aa', 'bb', 'cc', ['hello', 'hi', 'hahaha']]]\n",
        "a[3][3][1]"
      ],
      "metadata": {
        "colab": {
          "base_uri": "https://localhost:8080/",
          "height": 35
        },
        "id": "sDDWmF3vk7Mr",
        "outputId": "723b8ee4-9a1c-485c-f801-ae1de2ff6a48"
      },
      "execution_count": null,
      "outputs": [
        {
          "output_type": "execute_result",
          "data": {
            "text/plain": [
              "'hi'"
            ],
            "application/vnd.google.colaboratory.intrinsic+json": {
              "type": "string"
            }
          },
          "metadata": {},
          "execution_count": 16
        }
      ]
    },
    {
      "cell_type": "markdown",
      "metadata": {
        "id": "0cren7RMPS0S"
      },
      "source": [
        "* Q) a = [\"a\",\"b\",\"c\",\"d\",\"e\",\"f\",\"g\",\"h\",\"i\",\"j\",\"k\",1,2,3,4,5]  \n",
        "1) :를 사용하여 a의 모든 값을  출력하세요  \n",
        "2) :를 사용하여 a의 처음부터 5번째 까지 값을 출력하세요.  \n",
        "3) :를 사용하여 a의 4번째부터 끝까지 값을 출력하세요.  \n",
        "4) :를 사용하여 a의 2번째부터 6번째까지 값을 출력하세요.  \n",
        "5) :를 사용하여 a의 홀수번째 위치한 값들을 출력하세요.  \n",
        "6) :를 사용하여 a의 1,4,7,10번째 위치한 값들을 출력하세요!!\n"
      ]
    },
    {
      "cell_type": "code",
      "execution_count": null,
      "metadata": {
        "colab": {
          "base_uri": "https://localhost:8080/"
        },
        "id": "9eveyboDPS0T",
        "outputId": "b8fdaaf8-cebd-4c0e-c4b4-90f8bfe02793"
      },
      "outputs": [
        {
          "output_type": "stream",
          "name": "stdout",
          "text": [
            "['a', 'b', 'c', 'd', 'e', 'f', 'g', 'h', 'i', 'j', 'k', 1, 2, 3, 4, 5]\n",
            "['a', 'b', 'c', 'd', 'e', 'f']\n",
            "['e', 'f', 'g', 'h', 'i', 'j', 'k', 1, 2, 3, 4, 5]\n",
            "['c', 'd', 'e', 'f', 'g']\n",
            "[0, 2, 4, 6, 8, 10, 12, 14]\n",
            "[1, 4, 7, 10]\n"
          ]
        }
      ],
      "source": [
        "#목적은 슬라이싱 --> numpy array, pandas DF, Series\n",
        "# 여러개의 값을 접근할 때, 규칙이 있어야 한다\n",
        "#구조는 []인덱스 자리에, [시작점 : 끝점 : 간격]\n",
        "l = [\"a\",\"b\",\"c\",\"d\",\"e\",\"f\",\"g\",\"h\",\"i\",\"j\",\"k\",1,2,3,4,5]\n",
        "a = l[:]\n",
        "b = l[:6]\n",
        "c = l[4:len(a)]\n",
        "d = l[2:7]\n",
        "e = list(range(0,len(l),2))\n",
        "f = list(range(1,12,3))\n",
        "tot = []\n",
        "tot.extend([a,b,c,d,e,f])\n",
        "for i in tot :\n",
        "  print(i)"
      ]
    },
    {
      "cell_type": "markdown",
      "metadata": {
        "id": "BlQ_0E7lPS0T"
      },
      "source": [
        "* Q) a = {\"A\":90, \"B\":80,\"C\":70 } 이 중에서 \"B\"의 점수를 출력해보세요!"
      ]
    },
    {
      "cell_type": "code",
      "execution_count": null,
      "metadata": {
        "colab": {
          "base_uri": "https://localhost:8080/"
        },
        "id": "qlYv6S1MPS0T",
        "outputId": "9a2244bd-0d35-41d5-a1bd-b165c83bf969"
      },
      "outputs": [
        {
          "output_type": "stream",
          "name": "stdout",
          "text": [
            "B의 점수는 80 입니다.\n"
          ]
        }
      ],
      "source": [
        "# dict : 여러개의 값을 모아둔것\n",
        "# 개별 값에 접근하는 방법 : [인덱스 == 키값]\n",
        "a = {\"A\":90, \"B\":80,\"C\":70 }\n",
        "\n",
        "print('B의 점수는 {} 입니다.'.format(a[\"B\"]))"
      ]
    },
    {
      "cell_type": "markdown",
      "metadata": {
        "id": "-SQvloCfPS0T"
      },
      "source": [
        "Q) a = {\"A\":30, \"B\":50, \"C\":10,\"D\":43, \"E\":85, \"F\":76,\"G\":32} 이 중에서 최고점과 최저점을 찾으세요!!!"
      ]
    },
    {
      "cell_type": "code",
      "execution_count": null,
      "metadata": {
        "colab": {
          "base_uri": "https://localhost:8080/"
        },
        "id": "JJ2axb_1PS0T",
        "outputId": "c1c3ffeb-1525-4fd9-d91b-2a8163991514"
      },
      "outputs": [
        {
          "output_type": "stream",
          "name": "stdout",
          "text": [
            "최소점 학생은:C\n",
            "최고점 학생은:E\n"
          ]
        }
      ],
      "source": [
        "a = {\"A\":30, \"B\":50, \"C\":10,\"D\":43, \"E\":85, \"F\":76,\"G\":32}\n",
        "# num = []\n",
        "# num.extend(a.values())\n",
        "# small = min(num)\n",
        "# big = max(num)\n",
        "# print('최고점은 : {1}, 최저점은 : {0}'.format(small,big))\n",
        "\n",
        "min_val = min(a.values())\n",
        "max_val = max(a.values())\n",
        "\n",
        "for name, score in a.items():\n",
        "  if score == min_val:\n",
        "    print(\"최소점 학생은:{}\".format(name))\n",
        "  elif score == max_val:\n",
        "    print(\"최고점 학생은:{}\".format(name))\n",
        "  else:\n",
        "    pass"
      ]
    },
    {
      "cell_type": "code",
      "source": [
        "a = {\"A\":30, \"B\":50, \"C\":10,\"D\":43, \"E\":85, \"F\":76,\"G\":32}\n",
        "# max(a.values())\n",
        "# min(a.values())\n",
        "# for k in a.keys():\n",
        "#   print(k)\n",
        "# for v in a.values():\n",
        "#   print(v)\n",
        "\n",
        "# for k, v in a.items():\n",
        "#   print(k)\n",
        "#   print(v)\n",
        "\n",
        "min_val = min(a.values())\n",
        "max_val = max(a.values())\n",
        "\n",
        "\n",
        "for person in a.items():\n",
        "  #이름이 아니라 점수를 기준으로 비교\n",
        "  if person[1] == min_val:\n",
        "    print(\"최소점 학생은:{}\".format(person))\n",
        "  elif person[1] == max_val:\n",
        "    print(\"최고점 학생은:{}\".format(person))\n",
        "  else:\n",
        "    pass"
      ],
      "metadata": {
        "colab": {
          "base_uri": "https://localhost:8080/"
        },
        "id": "O7MuwGJenMXw",
        "outputId": "aa79f26b-5edb-417f-c32c-fcc6b36cf7ee"
      },
      "execution_count": null,
      "outputs": [
        {
          "output_type": "stream",
          "name": "stdout",
          "text": [
            "최소점 학생은:('C', 10)\n",
            "최고점 학생은:('E', 85)\n"
          ]
        }
      ]
    },
    {
      "cell_type": "code",
      "source": [
        "## 리스트에서 인덱스, 값 모두 할때 : enumerate / 딕셔너리에서는 items 잘 활용하기\n",
        "a_list = [\"a\", \"b\", \"c\"]\n",
        "for i, v in enumerate(a_list):\n",
        "  print(i)\n",
        "  print(v)"
      ],
      "metadata": {
        "colab": {
          "base_uri": "https://localhost:8080/"
        },
        "id": "fZrTC8anpvqc",
        "outputId": "9ab7d8de-ca8e-46fc-8432-9876feaad73e"
      },
      "execution_count": null,
      "outputs": [
        {
          "output_type": "stream",
          "name": "stdout",
          "text": [
            "0\n",
            "a\n",
            "1\n",
            "b\n",
            "2\n",
            "c\n"
          ]
        }
      ]
    },
    {
      "cell_type": "markdown",
      "metadata": {
        "id": "_Wz5O-OQPS0T"
      },
      "source": [
        "Q) a = {\"A\":30, \"B\":50, \"C\":10,\"D\":43, \"E\":85, \"F\":76,\"G\":32} 이 중에서 최고점과 최저점이 누구인지 찾으세요!!!"
      ]
    },
    {
      "cell_type": "code",
      "execution_count": null,
      "metadata": {
        "colab": {
          "base_uri": "https://localhost:8080/"
        },
        "id": "qW_11Hz1PS0T",
        "outputId": "45a542b0-f492-4179-ffbb-271372cc102c"
      },
      "outputs": [
        {
          "output_type": "stream",
          "name": "stdout",
          "text": [
            "최저값 : C \n",
            "최대값 : E\n"
          ]
        }
      ],
      "source": [
        "a = {\"A\":30, \"B\":50, \"C\":10,\"D\":43, \"E\":85, \"F\":76,\"G\":32} \n",
        "b = max(a,key=a.get)\n",
        "c = min(a,key=a.get)\n",
        "print('최저값 : {} \\n최대값 : {}'.format(c,b))"
      ]
    },
    {
      "cell_type": "code",
      "source": [
        "#\n",
        "a = {\"A\":30, \"B\":50, \"C\":10,\"D\":43, \"E\":85, \"F\":76,\"G\":32} \n"
      ],
      "metadata": {
        "id": "dZ7TZ-3NnNGh"
      },
      "execution_count": null,
      "outputs": []
    },
    {
      "cell_type": "markdown",
      "metadata": {
        "id": "lEfwHeibPS0U"
      },
      "source": [
        "*Q) 1부터 20까지 모든 수를 출력하는 프로그램을 만드세요(for/range)"
      ]
    },
    {
      "cell_type": "code",
      "execution_count": null,
      "metadata": {
        "id": "eWFJhyY2PS0U",
        "outputId": "edea11e0-a915-4cbf-8b14-287f30f1db31"
      },
      "outputs": [
        {
          "name": "stdout",
          "output_type": "stream",
          "text": [
            "0\n",
            "1\n",
            "2\n",
            "3\n",
            "4\n",
            "5\n",
            "6\n",
            "7\n",
            "8\n",
            "9\n",
            "10\n",
            "11\n",
            "12\n",
            "13\n",
            "14\n",
            "15\n",
            "16\n",
            "17\n",
            "18\n",
            "19\n",
            "20\n"
          ]
        }
      ],
      "source": [
        "for i in range(0,21):\n",
        "    print(i)"
      ]
    },
    {
      "cell_type": "markdown",
      "metadata": {
        "id": "ZzuTHJtIPS0U"
      },
      "source": [
        "* Q) \"hello_1\", \"hello_2\", ..., \"hello_20\"까지 출력하는 프로그램을 만드세요(for 사용)"
      ]
    },
    {
      "cell_type": "code",
      "execution_count": null,
      "metadata": {
        "colab": {
          "base_uri": "https://localhost:8080/"
        },
        "id": "vdTBVca5PS0U",
        "outputId": "d0952c3a-d77e-4d64-9822-9257a0a580af"
      },
      "outputs": [
        {
          "output_type": "stream",
          "name": "stdout",
          "text": [
            "hello_1\n",
            "hello_2\n",
            "hello_3\n",
            "hello_4\n",
            "hello_5\n",
            "hello_6\n",
            "hello_7\n",
            "hello_8\n",
            "hello_9\n",
            "hello_10\n",
            "hello_11\n",
            "hello_12\n",
            "hello_13\n",
            "hello_14\n",
            "hello_15\n",
            "hello_16\n",
            "hello_17\n",
            "hello_18\n",
            "hello_19\n",
            "hello_20\n"
          ]
        }
      ],
      "source": [
        "for i in range(1,21) :\n",
        "  print('hello_{}'.format(i))"
      ]
    },
    {
      "cell_type": "markdown",
      "metadata": {
        "id": "BsMJVAoqPS0U"
      },
      "source": [
        "* Q) a = [\"one\",\"two\",\"three\",\"four\"] 과 for문을 이용하여\n",
        "b = ['one1', 'two2', 'three3', 'four4']을 만드세요.  \n",
        "1) for& range 방법   \n",
        "2) for & a 바로 방법   \n",
        "2가지 방식으로 하세요!!!\n"
      ]
    },
    {
      "cell_type": "code",
      "execution_count": null,
      "metadata": {
        "id": "KReZVohBPS0U",
        "outputId": "2999aa58-0a3d-4678-fd35-7967278bac5d"
      },
      "outputs": [
        {
          "name": "stdout",
          "output_type": "stream",
          "text": [
            "['one1', 'two2', 'three3', 'four4']\n"
          ]
        }
      ],
      "source": []
    },
    {
      "cell_type": "markdown",
      "metadata": {
        "id": "nvRZr9KcPS0V"
      },
      "source": [
        "* Q) 1번/2번 학생의 시험 점수를 리스트로 만들고, 이에 대한 평균을 구하시오.  \n",
        "예: a = [10,20,30,40], b=[50,20,10,13]에 대해서, 각기 평균을 구하시오!   \n",
        "단, 시험 점수가 변동이 생길 수 있고, 시험 과목도 변동이 생길 수 있으니 a/b 중심으로 코드를 구현하세요!"
      ]
    },
    {
      "cell_type": "code",
      "execution_count": null,
      "metadata": {
        "id": "Apo5k1sHPS0V",
        "outputId": "2bf9e338-e567-4b3b-d368-5380f353c53c"
      },
      "outputs": [
        {
          "name": "stdout",
          "output_type": "stream",
          "text": [
            "46.0\n",
            "46.0\n"
          ]
        }
      ],
      "source": []
    },
    {
      "cell_type": "markdown",
      "metadata": {
        "id": "JsoA2wOxPS0V"
      },
      "source": [
        "* Q)  a = [\"Life\", \"is\",\"too\", \"short\", \"you\",\"need\",\"python\"] a 리스트를 화룡해서 yoo too 출력해보기!!!"
      ]
    },
    {
      "cell_type": "code",
      "execution_count": null,
      "metadata": {
        "id": "H9kV7B1PPS0V",
        "outputId": "0cde70ba-6a85-4e42-b006-8e38476b33ff"
      },
      "outputs": [
        {
          "name": "stdout",
          "output_type": "stream",
          "text": [
            "you too\n"
          ]
        }
      ],
      "source": []
    },
    {
      "cell_type": "markdown",
      "metadata": {
        "id": "e9Xnewv4PS0V"
      },
      "source": [
        "* Q) [\"Life\", \"is\", \"too\",\"short\"]라는 리스트를 활용해서 Life is too short 이라는 문장 만들기!!!"
      ]
    },
    {
      "cell_type": "code",
      "execution_count": null,
      "metadata": {
        "id": "huoxXnMQPS0V",
        "outputId": "d22b15a1-8b01-4b4f-ed0c-99a5dcbe8f2d"
      },
      "outputs": [
        {
          "name": "stdout",
          "output_type": "stream",
          "text": [
            "Life is too short\n"
          ]
        }
      ],
      "source": []
    },
    {
      "cell_type": "markdown",
      "metadata": {
        "id": "d6oQd3uhPS0V"
      },
      "source": [
        "* Q)  a = [1,2,3,4,5,6] 이 리스트의 원소의 갯수는?"
      ]
    },
    {
      "cell_type": "code",
      "execution_count": null,
      "metadata": {
        "id": "yyq7OU-WPS0W",
        "outputId": "38d0abc0-fa99-4926-8957-abf3a90f3aeb"
      },
      "outputs": [
        {
          "data": {
            "text/plain": [
              "6"
            ]
          },
          "execution_count": 27,
          "metadata": {},
          "output_type": "execute_result"
        }
      ],
      "source": [
        "a = [1,2,3,4,5,6]\n",
        "len(a)"
      ]
    },
    {
      "cell_type": "markdown",
      "metadata": {
        "id": "iV5t37_LPS0W"
      },
      "source": [
        "* Q) a [ 1,2,3,4,5]라는 리스트를 [1,3,5]로 만들기!!!"
      ]
    },
    {
      "cell_type": "code",
      "execution_count": null,
      "metadata": {
        "colab": {
          "base_uri": "https://localhost:8080/"
        },
        "id": "KbV-TDOhPS0W",
        "outputId": "28a8a779-0f9b-4f34-d188-0698b6fc067d"
      },
      "outputs": [
        {
          "output_type": "stream",
          "name": "stdout",
          "text": [
            "[1, 3, 5]\n"
          ]
        }
      ],
      "source": [
        "a = [1, 2, 3, 4, 5]\n",
        "e = list(range(1,len(a)+1,2))\n",
        "print(e)"
      ]
    },
    {
      "cell_type": "markdown",
      "metadata": {
        "id": "wBZDbiE6PS0W"
      },
      "source": [
        "* Q) a = 10 양수, 음수, 0인지 판단을 하고 싶다!! --> 완성 후에는 input을 활용하여 하는 것으로 추가 구현"
      ]
    },
    {
      "cell_type": "code",
      "execution_count": null,
      "metadata": {
        "colab": {
          "base_uri": "https://localhost:8080/"
        },
        "id": "WOu2UzsbPS0W",
        "outputId": "6367f5a6-d31c-451e-8fe1-cd856a2b815a"
      },
      "outputs": [
        {
          "output_type": "stream",
          "name": "stdout",
          "text": [
            "0,양수,음수인지 알고싶은 숫자를 입력하시오.>>32\n",
            "양수\n"
          ]
        }
      ],
      "source": [
        "a = int(input('0,양수,음수인지 알고싶은 숫자를 입력하시오.>>'))\n",
        "if a > 0 :\n",
        "  print('양수')\n",
        "elif a < 0 :\n",
        "  print('음수')\n",
        "else :\n",
        "  print('0') "
      ]
    },
    {
      "cell_type": "markdown",
      "metadata": {
        "id": "vHO4SncVPS0W"
      },
      "source": [
        "* Q1) 입력받은 양의 정수(자연수) 홀수/짝수인지 판단을 하고, 그 결과를 출력해주세요!!"
      ]
    },
    {
      "cell_type": "code",
      "execution_count": null,
      "metadata": {
        "colab": {
          "base_uri": "https://localhost:8080/",
          "height": 438
        },
        "id": "MCckbVy8PS0W",
        "outputId": "26d8d260-cef2-4b21-947f-8b8c03fd201a"
      },
      "outputs": [
        {
          "name": "stdout",
          "output_type": "stream",
          "text": [
            "홀/짝을 판단하고자 하는 수를 입력하세요!!!>>66\n",
            "짝수입니다.\n",
            "홀/짝을 판단하고자 하는 수를 입력하세요!!!>>11\n",
            "홀수입니다.\n",
            "홀/짝을 판단하고자 하는 수를 입력하세요!!!>>33\n",
            "홀수입니다.\n",
            "홀/짝을 판단하고자 하는 수를 입력하세요!!!>>0\n",
            "짝수입니다.\n",
            "홀/짝을 판단하고자 하는 수를 입력하세요!!!>>0\n",
            "짝수입니다.\n",
            "홀/짝을 판단하고자 하는 수를 입력하세요!!!>>ㅇ\n"
          ]
        },
        {
          "output_type": "error",
          "ename": "ValueError",
          "evalue": "ignored",
          "traceback": [
            "\u001b[0;31m---------------------------------------------------------------------------\u001b[0m",
            "\u001b[0;31mValueError\u001b[0m                                Traceback (most recent call last)",
            "\u001b[0;32m<ipython-input-84-00523152214c>\u001b[0m in \u001b[0;36m<module>\u001b[0;34m\u001b[0m\n\u001b[1;32m      1\u001b[0m \u001b[0;32mwhile\u001b[0m \u001b[0;32mTrue\u001b[0m \u001b[0;34m:\u001b[0m\u001b[0;34m\u001b[0m\u001b[0;34m\u001b[0m\u001b[0m\n\u001b[0;32m----> 2\u001b[0;31m   \u001b[0mnum\u001b[0m \u001b[0;34m=\u001b[0m \u001b[0mint\u001b[0m\u001b[0;34m(\u001b[0m\u001b[0minput\u001b[0m\u001b[0;34m(\u001b[0m\u001b[0;34m'홀/짝을 판단하고자 하는 수를 입력하세요!!!>>'\u001b[0m\u001b[0;34m)\u001b[0m\u001b[0;34m)\u001b[0m\u001b[0;34m\u001b[0m\u001b[0;34m\u001b[0m\u001b[0m\n\u001b[0m\u001b[1;32m      3\u001b[0m   \u001b[0;32mif\u001b[0m \u001b[0mnum\u001b[0m\u001b[0;34m%\u001b[0m\u001b[0;36m2\u001b[0m \u001b[0;34m!=\u001b[0m \u001b[0;36m0\u001b[0m \u001b[0;34m:\u001b[0m\u001b[0;34m\u001b[0m\u001b[0;34m\u001b[0m\u001b[0m\n\u001b[1;32m      4\u001b[0m     \u001b[0mprint\u001b[0m\u001b[0;34m(\u001b[0m\u001b[0;34m'홀수입니다.'\u001b[0m\u001b[0;34m)\u001b[0m\u001b[0;34m\u001b[0m\u001b[0;34m\u001b[0m\u001b[0m\n\u001b[1;32m      5\u001b[0m   \u001b[0;32melif\u001b[0m \u001b[0mnum\u001b[0m\u001b[0;34m%\u001b[0m\u001b[0;36m2\u001b[0m \u001b[0;34m==\u001b[0m \u001b[0;36m0\u001b[0m \u001b[0;34m:\u001b[0m\u001b[0;34m\u001b[0m\u001b[0;34m\u001b[0m\u001b[0m\n",
            "\u001b[0;31mValueError\u001b[0m: invalid literal for int() with base 10: 'ㅇ'"
          ]
        }
      ],
      "source": [
        "while True :\n",
        "  num = int(input('홀/짝을 판단하고자 하는 수를 입력하세요!!!>>'))\n",
        "  if num%2 != 0 :\n",
        "    print('홀수입니다.')\n",
        "  elif num%2 == 0 :\n",
        "    print('짝수입니다.')\n",
        "\n"
      ]
    },
    {
      "cell_type": "markdown",
      "metadata": {
        "id": "FQRHsVsZPS0X"
      },
      "source": [
        "* Q) * Q2) A라는 사람이 5000원의 돈을 가지고 있고, 카드는 없다.  \n",
        "A의 상태는   \n",
        "money = 5000  \n",
        "card = False  \n",
        "이 사람이 목적지까지 택시를 타고 가려고 한다.\n",
        "목적지까지 가기 위해서는 카드를 소유하고 있거나, 4000원 이상의 현금을 가지고 있어야 한다.\n",
        "A 는 이 목적지까지 갈 수 있는지 판단해보세요!!!"
      ]
    },
    {
      "cell_type": "code",
      "execution_count": null,
      "metadata": {
        "colab": {
          "base_uri": "https://localhost:8080/"
        },
        "id": "5E0jtxUVPS0X",
        "outputId": "677549f5-4c3f-482d-bef5-9b133600829b"
      },
      "outputs": [
        {
          "output_type": "stream",
          "name": "stdout",
          "text": [
            "갈수있다.\n"
          ]
        }
      ],
      "source": [
        "#A의 상태는\n",
        "money = 5000\n",
        "card = False\n",
        "if card == True :\n",
        "  print('갈수있다.')\n",
        "elif money >= 4000 :\n",
        "  print('갈수있다.')\n",
        "else :\n",
        "  print('걸어가라')"
      ]
    },
    {
      "cell_type": "markdown",
      "metadata": {
        "id": "sFe3ATYUPS0X"
      },
      "source": [
        "* Q) 입력을 받은 자연수에 대해서 몇 자리 수인지 판단하세요!!!(최대 9999까지)"
      ]
    },
    {
      "cell_type": "code",
      "execution_count": null,
      "metadata": {
        "colab": {
          "base_uri": "https://localhost:8080/"
        },
        "id": "Yx8FJA9-PS0X",
        "outputId": "10c18f25-ea7b-4b65-acb9-30e26fd138d3"
      },
      "outputs": [
        {
          "output_type": "stream",
          "name": "stdout",
          "text": [
            "숫자를 입력하세요.>>857493902\n",
            "입력하신 자리 수는 9자리 수 입니다.\n"
          ]
        }
      ],
      "source": [
        "num = int(input('숫자를 입력하세요.>>'))\n",
        "print('입력하신 자리 수는 {}자리 수 입니다.'.format(len(str(num))))"
      ]
    },
    {
      "cell_type": "markdown",
      "metadata": {
        "id": "LlLH_3K-PS0X"
      },
      "source": [
        "* Q) a = 10, b = 20을 가지고, a=20, b=10이라고 서로 수를 바꾸는 프로그램을 작성하시오!!!"
      ]
    },
    {
      "cell_type": "code",
      "execution_count": null,
      "metadata": {
        "colab": {
          "base_uri": "https://localhost:8080/"
        },
        "id": "hJCrBvw_PS0X",
        "outputId": "9073322a-b37d-46fd-c47e-5985ca61ae6c"
      },
      "outputs": [
        {
          "output_type": "stream",
          "name": "stdout",
          "text": [
            "a값 입력 :12\n",
            "b값 입력 :21\n",
            "변환되는 a값: 21\n",
            "변환되는 b값: 12\n"
          ]
        }
      ],
      "source": [
        "a = int(input('a값 입력 :'))\n",
        "b = int(input('b값 입력 :'))\n",
        "a,b = b,a\n",
        "print('변환되는 a값:', a)\n",
        "print('변환되는 b값:', b)"
      ]
    },
    {
      "cell_type": "markdown",
      "metadata": {
        "id": "zH4iDboePS0X"
      },
      "source": [
        "* Q) kg에 대한 값을 g으로 변환하는 프로그램을 작성하시오(예:1.2kg => 1200g)"
      ]
    },
    {
      "cell_type": "code",
      "execution_count": null,
      "metadata": {
        "id": "h-rnXde8PS0X",
        "outputId": "7c2f2a5b-80a2-4eeb-a8b7-1c7f0943fb64"
      },
      "outputs": [
        {
          "name": "stdout",
          "output_type": "stream",
          "text": [
            "입력하세요[kg]!!!1.2\n",
            "1200.0\n"
          ]
        }
      ],
      "source": []
    },
    {
      "cell_type": "markdown",
      "metadata": {
        "id": "es_PbhZiPS0X"
      },
      "source": [
        "* Q) g에 대한 값을 kg으로 변환하는 프로그램을 작성하시오!(예:1200g ==> 1.2kg)"
      ]
    },
    {
      "cell_type": "code",
      "execution_count": null,
      "metadata": {
        "id": "wLrnlSeYPS0Y",
        "outputId": "25ebc201-46fe-441d-9e22-f31bc20eb626"
      },
      "outputs": [
        {
          "name": "stdout",
          "output_type": "stream",
          "text": [
            "입력하세요[g]!!!1234\n",
            "1.234\n"
          ]
        }
      ],
      "source": []
    },
    {
      "cell_type": "markdown",
      "metadata": {
        "id": "QbL7OvgiPS0Y"
      },
      "source": [
        "* Q)  3개의 수에 대해서, 가장 큰 수를 찾는 프로그램을 작성하시오!!!\n",
        "(예를 들면, 10, 20, 17이라는 3개의 수가 있다고 하면, 이 중에서 제일 큰 수 20을 찾는 프로그램)"
      ]
    },
    {
      "cell_type": "code",
      "execution_count": null,
      "metadata": {
        "id": "RJ382g-4PS0Y",
        "outputId": "4a986450-e509-4e33-83b1-fbf4a389f92a"
      },
      "outputs": [
        {
          "name": "stdout",
          "output_type": "stream",
          "text": [
            "20\n"
          ]
        }
      ],
      "source": []
    },
    {
      "cell_type": "markdown",
      "metadata": {
        "id": "BIC9-8HWPS0Y"
      },
      "source": [
        "* Q) 1부터 100까지 합!!!!"
      ]
    },
    {
      "cell_type": "code",
      "execution_count": null,
      "metadata": {
        "id": "nnGeGWTMPS0Y",
        "outputId": "51ea94da-fbf7-4344-b816-531aceae3999"
      },
      "outputs": [
        {
          "name": "stdout",
          "output_type": "stream",
          "text": [
            "5050\n"
          ]
        }
      ],
      "source": []
    },
    {
      "cell_type": "markdown",
      "metadata": {
        "id": "YWgkMccBPS0Y"
      },
      "source": [
        "* Q) 1부터 100까지 곱!!"
      ]
    },
    {
      "cell_type": "code",
      "execution_count": null,
      "metadata": {
        "id": "S0CKO7ORPS0Y",
        "outputId": "d20b2652-1261-423b-82b1-0c6928dbfb74",
        "colab": {
          "base_uri": "https://localhost:8080/"
        }
      },
      "outputs": [
        {
          "output_type": "stream",
          "name": "stdout",
          "text": [
            "9801\n"
          ]
        }
      ],
      "source": []
    },
    {
      "cell_type": "markdown",
      "metadata": {
        "id": "WnhETkMmPS0Y"
      },
      "source": [
        "* Q) 시험 성적 점수 [90, 80,35,24,65,74,93]  \n",
        "시험 통과가 60점 이상이라고 할 때,\n",
        "몇 번째 학생이 통과했는지 알려주세요!!!!!"
      ]
    },
    {
      "cell_type": "code",
      "execution_count": null,
      "metadata": {
        "id": "i3InTq4iPS0Y",
        "outputId": "bed0a7b8-ba8d-4995-8fc7-7096245441b2"
      },
      "outputs": [
        {
          "name": "stdout",
          "output_type": "stream",
          "text": [
            "1\n",
            "2\n",
            "5\n",
            "6\n",
            "7\n"
          ]
        }
      ],
      "source": []
    },
    {
      "cell_type": "markdown",
      "metadata": {
        "id": "jRU_J032PS0Y"
      },
      "source": [
        "* Q) [\"A\",\"B\",\"A\",\"O\",\"AB\",\"AB\",\"O\",\"A\",\"B\",\"AB\"] 이러한 혈핵형을 가지고 있을 때, for문을 이용해서 각 혈핵형별로 몇 명인지 총 인원을 구하세요!!!!"
      ]
    },
    {
      "cell_type": "code",
      "execution_count": null,
      "metadata": {
        "id": "4Ywgve6kPS0Y",
        "outputId": "884452e7-e6c4-48d8-ffc9-730aa83fc467"
      },
      "outputs": [
        {
          "name": "stdout",
          "output_type": "stream",
          "text": [
            "3\n",
            "2\n",
            "2\n",
            "3\n"
          ]
        }
      ],
      "source": []
    },
    {
      "cell_type": "markdown",
      "metadata": {
        "id": "X3rrSyzePS0Z"
      },
      "source": [
        "* Q) [1,2,3,4,5,6,7,8,9,10,11,12] 중에서 홀수만 골라서  \n",
        "3을 곱하는 결과를 나타내시오!!!!"
      ]
    },
    {
      "cell_type": "code",
      "execution_count": null,
      "metadata": {
        "id": "r8joJKjuPS0Z",
        "outputId": "0eb822b0-830f-4c94-bfb2-e1baabb7b3c2"
      },
      "outputs": [
        {
          "name": "stdout",
          "output_type": "stream",
          "text": [
            "3\n",
            "9\n",
            "15\n",
            "21\n",
            "27\n",
            "33\n"
          ]
        }
      ],
      "source": []
    },
    {
      "cell_type": "markdown",
      "metadata": {
        "id": "8KsDonGFPS0Z"
      },
      "source": [
        "* Q) 구구단 2단, 3단, ..., 19단까지 결과를 출력하세요!!!"
      ]
    },
    {
      "cell_type": "code",
      "execution_count": 8,
      "metadata": {
        "id": "v08xaotpPS0Z",
        "outputId": "88e34931-c3d0-4bfb-acf7-4da85f221cc8",
        "colab": {
          "base_uri": "https://localhost:8080/"
        }
      },
      "outputs": [
        {
          "output_type": "stream",
          "name": "stdout",
          "text": [
            "2 x 1 = 2\n",
            "2 x 2 = 4\n",
            "2 x 3 = 6\n",
            "2 x 4 = 8\n",
            "2 x 5 = 10\n",
            "2 x 6 = 12\n",
            "2 x 7 = 14\n",
            "2 x 8 = 16\n",
            "2 x 9 = 18\n",
            "3 x 1 = 3\n",
            "3 x 2 = 6\n",
            "3 x 3 = 9\n",
            "3 x 4 = 12\n",
            "3 x 5 = 15\n",
            "3 x 6 = 18\n",
            "3 x 7 = 21\n",
            "3 x 8 = 24\n",
            "3 x 9 = 27\n",
            "4 x 1 = 4\n",
            "4 x 2 = 8\n",
            "4 x 3 = 12\n",
            "4 x 4 = 16\n",
            "4 x 5 = 20\n",
            "4 x 6 = 24\n",
            "4 x 7 = 28\n",
            "4 x 8 = 32\n",
            "4 x 9 = 36\n",
            "5 x 1 = 5\n",
            "5 x 2 = 10\n",
            "5 x 3 = 15\n",
            "5 x 4 = 20\n",
            "5 x 5 = 25\n",
            "5 x 6 = 30\n",
            "5 x 7 = 35\n",
            "5 x 8 = 40\n",
            "5 x 9 = 45\n",
            "6 x 1 = 6\n",
            "6 x 2 = 12\n",
            "6 x 3 = 18\n",
            "6 x 4 = 24\n",
            "6 x 5 = 30\n",
            "6 x 6 = 36\n",
            "6 x 7 = 42\n",
            "6 x 8 = 48\n",
            "6 x 9 = 54\n",
            "7 x 1 = 7\n",
            "7 x 2 = 14\n",
            "7 x 3 = 21\n",
            "7 x 4 = 28\n",
            "7 x 5 = 35\n",
            "7 x 6 = 42\n",
            "7 x 7 = 49\n",
            "7 x 8 = 56\n",
            "7 x 9 = 63\n",
            "8 x 1 = 8\n",
            "8 x 2 = 16\n",
            "8 x 3 = 24\n",
            "8 x 4 = 32\n",
            "8 x 5 = 40\n",
            "8 x 6 = 48\n",
            "8 x 7 = 56\n",
            "8 x 8 = 64\n",
            "8 x 9 = 72\n",
            "9 x 1 = 9\n",
            "9 x 2 = 18\n",
            "9 x 3 = 27\n",
            "9 x 4 = 36\n",
            "9 x 5 = 45\n",
            "9 x 6 = 54\n",
            "9 x 7 = 63\n",
            "9 x 8 = 72\n",
            "9 x 9 = 81\n",
            "10 x 1 = 10\n",
            "10 x 2 = 20\n",
            "10 x 3 = 30\n",
            "10 x 4 = 40\n",
            "10 x 5 = 50\n",
            "10 x 6 = 60\n",
            "10 x 7 = 70\n",
            "10 x 8 = 80\n",
            "10 x 9 = 90\n",
            "11 x 1 = 11\n",
            "11 x 2 = 22\n",
            "11 x 3 = 33\n",
            "11 x 4 = 44\n",
            "11 x 5 = 55\n",
            "11 x 6 = 66\n",
            "11 x 7 = 77\n",
            "11 x 8 = 88\n",
            "11 x 9 = 99\n",
            "12 x 1 = 12\n",
            "12 x 2 = 24\n",
            "12 x 3 = 36\n",
            "12 x 4 = 48\n",
            "12 x 5 = 60\n",
            "12 x 6 = 72\n",
            "12 x 7 = 84\n",
            "12 x 8 = 96\n",
            "12 x 9 = 108\n",
            "13 x 1 = 13\n",
            "13 x 2 = 26\n",
            "13 x 3 = 39\n",
            "13 x 4 = 52\n",
            "13 x 5 = 65\n",
            "13 x 6 = 78\n",
            "13 x 7 = 91\n",
            "13 x 8 = 104\n",
            "13 x 9 = 117\n",
            "14 x 1 = 14\n",
            "14 x 2 = 28\n",
            "14 x 3 = 42\n",
            "14 x 4 = 56\n",
            "14 x 5 = 70\n",
            "14 x 6 = 84\n",
            "14 x 7 = 98\n",
            "14 x 8 = 112\n",
            "14 x 9 = 126\n",
            "15 x 1 = 15\n",
            "15 x 2 = 30\n",
            "15 x 3 = 45\n",
            "15 x 4 = 60\n",
            "15 x 5 = 75\n",
            "15 x 6 = 90\n",
            "15 x 7 = 105\n",
            "15 x 8 = 120\n",
            "15 x 9 = 135\n",
            "16 x 1 = 16\n",
            "16 x 2 = 32\n",
            "16 x 3 = 48\n",
            "16 x 4 = 64\n",
            "16 x 5 = 80\n",
            "16 x 6 = 96\n",
            "16 x 7 = 112\n",
            "16 x 8 = 128\n",
            "16 x 9 = 144\n",
            "17 x 1 = 17\n",
            "17 x 2 = 34\n",
            "17 x 3 = 51\n",
            "17 x 4 = 68\n",
            "17 x 5 = 85\n",
            "17 x 6 = 102\n",
            "17 x 7 = 119\n",
            "17 x 8 = 136\n",
            "17 x 9 = 153\n",
            "18 x 1 = 18\n",
            "18 x 2 = 36\n",
            "18 x 3 = 54\n",
            "18 x 4 = 72\n",
            "18 x 5 = 90\n",
            "18 x 6 = 108\n",
            "18 x 7 = 126\n",
            "18 x 8 = 144\n",
            "18 x 9 = 162\n",
            "19 x 1 = 19\n",
            "19 x 2 = 38\n",
            "19 x 3 = 57\n",
            "19 x 4 = 76\n",
            "19 x 5 = 95\n",
            "19 x 6 = 114\n",
            "19 x 7 = 133\n",
            "19 x 8 = 152\n",
            "19 x 9 = 171\n"
          ]
        }
      ],
      "source": [
        "for i in range(2,20):\n",
        "  for j in range(1,10):\n",
        "    t = i*j\n",
        "    print(\"{} x {} = {}\".format(i,j,t))"
      ]
    },
    {
      "cell_type": "markdown",
      "metadata": {
        "id": "51gnmlwpPS0Z"
      },
      "source": [
        "* Q) 100 까지 소수를 모두 찾아보세요!!!!"
      ]
    },
    {
      "cell_type": "code",
      "execution_count": null,
      "metadata": {
        "id": "2ptJZXKXPS0Z",
        "outputId": "8ce56925-8e7c-469d-d869-7b7283aab706"
      },
      "outputs": [
        {
          "name": "stdout",
          "output_type": "stream",
          "text": [
            "2\n",
            "3\n",
            "5\n",
            "7\n",
            "11\n",
            "13\n",
            "17\n",
            "19\n",
            "23\n",
            "29\n",
            "31\n",
            "37\n",
            "41\n",
            "43\n",
            "47\n",
            "53\n",
            "59\n",
            "61\n",
            "67\n",
            "71\n",
            "73\n",
            "79\n",
            "83\n",
            "89\n",
            "97\n"
          ]
        }
      ],
      "source": []
    },
    {
      "cell_type": "markdown",
      "metadata": {
        "id": "LU4ur5EgPS0Z"
      },
      "source": [
        "* Q) 두 수 54, 24의 최대공약수, 공약수를 구해보세요!!!"
      ]
    },
    {
      "cell_type": "code",
      "execution_count": null,
      "metadata": {
        "id": "_AgoqdS2PS0Z",
        "outputId": "a7e422f5-8b05-4949-89f2-d83f14ea77e6"
      },
      "outputs": [
        {
          "name": "stdout",
          "output_type": "stream",
          "text": [
            "첫번째 수를 입력하세요 : 54\n",
            "두번째 수를 입력하세요 : 24\n",
            "54와 24의 공약수는 [1, 2, 3, 6]\n",
            "6\n"
          ]
        }
      ],
      "source": []
    },
    {
      "cell_type": "markdown",
      "metadata": {
        "id": "z6mGg8PYPS0Z"
      },
      "source": [
        "*Q) @@@@@ 을 출력하세요!!!"
      ]
    },
    {
      "cell_type": "code",
      "execution_count": 16,
      "metadata": {
        "id": "qpqGmAPkPS0Z",
        "outputId": "4c9d162d-465c-454c-d6a1-0a25dafa3776",
        "colab": {
          "base_uri": "https://localhost:8080/"
        }
      },
      "outputs": [
        {
          "output_type": "stream",
          "name": "stdout",
          "text": [
            "@@@@@"
          ]
        }
      ],
      "source": [
        "for _ in range(5):\n",
        "  print(\"@\", end=\"\")"
      ]
    },
    {
      "cell_type": "markdown",
      "metadata": {
        "id": "tvEarqTjPS0a"
      },
      "source": [
        "* Q)   \n",
        "@@@@@  \n",
        "@@@@@  \n",
        "@@@@@  \n",
        "@@@@@  "
      ]
    },
    {
      "cell_type": "code",
      "execution_count": 17,
      "metadata": {
        "id": "1T9ZWV_wPS0a",
        "outputId": "a63d3468-b1d5-4482-f99b-a4eb3dea5a36",
        "colab": {
          "base_uri": "https://localhost:8080/"
        }
      },
      "outputs": [
        {
          "output_type": "stream",
          "name": "stdout",
          "text": [
            "@@@@@\n",
            "@@@@@\n",
            "@@@@@\n",
            "@@@@@\n",
            "@@@@@\n"
          ]
        }
      ],
      "source": [
        "for _ in range(5):\n",
        "  print(\"@\"*5)"
      ]
    },
    {
      "cell_type": "code",
      "execution_count": 21,
      "metadata": {
        "id": "7PG7SCFEPS0a",
        "colab": {
          "base_uri": "https://localhost:8080/"
        },
        "outputId": "f3dea7ac-d1a8-4a53-b859-a5f0bc24d74a"
      },
      "outputs": [
        {
          "output_type": "stream",
          "name": "stdout",
          "text": [
            "@@@@@\n",
            "@@@@@\n",
            "@@@@@\n",
            "@@@@@\n",
            "@@@@@\n"
          ]
        }
      ],
      "source": [
        "for _ in range(5):\n",
        "  for _ in range(5):\n",
        "    print('@', end='')\n",
        "  print(\"\")"
      ]
    },
    {
      "cell_type": "code",
      "execution_count": null,
      "metadata": {
        "id": "kpK0HwfLPS0a",
        "outputId": "37e2175e-f690-4ddc-c41b-2b52250a5afc"
      },
      "outputs": [
        {
          "name": "stdout",
          "output_type": "stream",
          "text": [
            "@\n",
            "@@\n",
            "@@@\n",
            "@@@@\n",
            "@@@@@\n"
          ]
        }
      ],
      "source": []
    },
    {
      "cell_type": "markdown",
      "metadata": {
        "id": "4fWE_KKxPS0a"
      },
      "source": [
        "* Q) 위의 그림을 만드세요"
      ]
    },
    {
      "cell_type": "code",
      "execution_count": 38,
      "metadata": {
        "id": "lFs4jcHfPS0a",
        "outputId": "cf98e3a3-0782-46d5-9d95-b79fb07bcd89",
        "colab": {
          "base_uri": "https://localhost:8080/"
        }
      },
      "outputs": [
        {
          "output_type": "stream",
          "name": "stdout",
          "text": [
            "@\n",
            "@@\n",
            "@@@\n",
            "@@@@\n",
            "@@@@@\n"
          ]
        }
      ],
      "source": [
        "for i in range(1,6):\n",
        "  print(\"@\"*i)"
      ]
    },
    {
      "cell_type": "code",
      "execution_count": null,
      "metadata": {
        "id": "xI1ddg-ZPS0a"
      },
      "outputs": [],
      "source": []
    },
    {
      "cell_type": "code",
      "execution_count": null,
      "metadata": {
        "id": "fBZnEclrPS0a",
        "outputId": "5674132c-22e6-4164-a440-0697a8abf505"
      },
      "outputs": [
        {
          "name": "stdout",
          "output_type": "stream",
          "text": [
            "@@@@@\n",
            " @@@@\n",
            "  @@@\n",
            "   @@\n",
            "    @\n"
          ]
        }
      ],
      "source": []
    },
    {
      "cell_type": "markdown",
      "metadata": {
        "id": "4me8XH-VPS0a"
      },
      "source": [
        "* Q) 위의 그림을 만드세요!!!"
      ]
    },
    {
      "cell_type": "code",
      "execution_count": 44,
      "metadata": {
        "id": "7EsAimuuPS0a",
        "outputId": "1be7e863-5958-4403-b8e7-2c0c49fc1fed",
        "colab": {
          "base_uri": "https://localhost:8080/"
        }
      },
      "outputs": [
        {
          "output_type": "stream",
          "name": "stdout",
          "text": [
            "@@@@@\n",
            "@@@@\n",
            "@@@\n",
            "@@\n",
            "@\n"
          ]
        }
      ],
      "source": [
        "for i in range(0,5):\n",
        "  print(\"\"*i + \"@\"*(5-i))"
      ]
    },
    {
      "cell_type": "code",
      "execution_count": null,
      "metadata": {
        "id": "HQpV_vasPS0b"
      },
      "outputs": [],
      "source": []
    },
    {
      "cell_type": "code",
      "execution_count": null,
      "metadata": {
        "id": "d7ECe_3JPS0b",
        "outputId": "03086c3a-3ea6-462a-c6fa-270aa437e0a1"
      },
      "outputs": [
        {
          "name": "stdout",
          "output_type": "stream",
          "text": [
            "    @\n",
            "   @@@\n",
            "  @@@@@\n",
            " @@@@@@@\n",
            "@@@@@@@@@\n"
          ]
        }
      ],
      "source": []
    },
    {
      "cell_type": "markdown",
      "metadata": {
        "id": "xaCpN6aqPS0b"
      },
      "source": [
        "* Q) 위의 그림을 만드세요!"
      ]
    },
    {
      "cell_type": "code",
      "execution_count": 94,
      "metadata": {
        "id": "8qOVJjknPS0b",
        "outputId": "3c8bf1cb-bc44-4a45-e138-698ef2dee843",
        "colab": {
          "base_uri": "https://localhost:8080/"
        }
      },
      "outputs": [
        {
          "output_type": "stream",
          "name": "stdout",
          "text": [
            "@@@@@@@@@@@@@@@@@@@\n",
            " @@@@@@@@@@@@@@@@@\n",
            "  @@@@@@@@@@@@@@@\n",
            "   @@@@@@@@@@@@@\n",
            "    @@@@@@@@@@@\n",
            "     @@@@@@@@@\n",
            "      @@@@@@@\n",
            "       @@@@@\n",
            "        @@@\n"
          ]
        }
      ],
      "source": [
        "for i in range(0,9):\n",
        "  print(\" \"*i + \"@\"*(2*(9-i)+1))"
      ]
    },
    {
      "cell_type": "code",
      "execution_count": null,
      "metadata": {
        "id": "nxSns0yXPS0b"
      },
      "outputs": [],
      "source": []
    },
    {
      "cell_type": "code",
      "execution_count": null,
      "metadata": {
        "id": "NOCUTv4YPS0b",
        "outputId": "e97ef15a-4e37-4dde-e430-52bfc1f54c4b"
      },
      "outputs": [
        {
          "name": "stdout",
          "output_type": "stream",
          "text": [
            "@@@@@@@@@\n",
            " @@@@@@@\n",
            "  @@@@@\n",
            "   @@@\n",
            "    @\n"
          ]
        }
      ],
      "source": []
    },
    {
      "cell_type": "markdown",
      "metadata": {
        "id": "27n1JhI1PS0b"
      },
      "source": [
        "* Q) 위의 그림을 만드세요"
      ]
    },
    {
      "cell_type": "code",
      "execution_count": null,
      "metadata": {
        "id": "6rki8KzlPS0b",
        "outputId": "fb132315-7756-4886-ddec-9c28879473e5"
      },
      "outputs": [
        {
          "name": "stdout",
          "output_type": "stream",
          "text": [
            "@@@@@@@@@\n",
            " @@@@@@@\n",
            "  @@@@@\n",
            "   @@@\n",
            "    @\n"
          ]
        }
      ],
      "source": []
    },
    {
      "cell_type": "code",
      "execution_count": null,
      "metadata": {
        "id": "06R6zJr_PS0b"
      },
      "outputs": [],
      "source": []
    },
    {
      "cell_type": "code",
      "execution_count": null,
      "metadata": {
        "id": "ZfAo_rfsPS0b",
        "outputId": "4a6f9664-b682-40d3-ae5e-e3cd56ea9515"
      },
      "outputs": [
        {
          "name": "stdout",
          "output_type": "stream",
          "text": [
            "\n",
            "1\n",
            "22\n",
            "333\n",
            "4444\n",
            "55555\n",
            "666666\n",
            "7777777\n",
            "88888888\n",
            "999999999\n"
          ]
        }
      ],
      "source": []
    },
    {
      "cell_type": "markdown",
      "metadata": {
        "id": "fAZ4hRCBPS0b"
      },
      "source": [
        "* 위와 같은 결과를 만드세요"
      ]
    },
    {
      "cell_type": "code",
      "execution_count": 102,
      "metadata": {
        "id": "3gbOgD3_PS0c",
        "outputId": "38b8a8f6-f84a-457c-a2f0-df78d3966985",
        "colab": {
          "base_uri": "https://localhost:8080/"
        }
      },
      "outputs": [
        {
          "output_type": "stream",
          "name": "stdout",
          "text": [
            "1\n",
            "22\n",
            "333\n",
            "4444\n",
            "55555\n",
            "666666\n",
            "7777777\n",
            "88888888\n",
            "999999999\n"
          ]
        }
      ],
      "source": [
        "for i in range(1,10):\n",
        "  print(str(i)*i)"
      ]
    },
    {
      "cell_type": "code",
      "execution_count": null,
      "metadata": {
        "id": "1iWDYup2PS0c"
      },
      "outputs": [],
      "source": []
    },
    {
      "cell_type": "markdown",
      "metadata": {
        "id": "T5lK0PlIPS0c"
      },
      "source": [
        "* Q) 학생의 점수을 입력을 받아서, 그 점수에 해당하는 학점을 출력을 하고, 그 학점이 A는 \"참 잘했습니다\", B는 \"잘 했습니다.\", C는 \"좀 더 노력하세요\", D는 \"재수강을 권장합니다\", F는 \"꼭 다시 들으세요!!!\"로 판별해주기.  \n",
        "단, F: 40점 미만, D:40점 이상~60점 미만, C : 60이상~80점 미만, B:80이상~90점 미만, A:90점 이상 이상"
      ]
    },
    {
      "cell_type": "code",
      "execution_count": null,
      "metadata": {
        "id": "09pEGerKPS0c"
      },
      "outputs": [],
      "source": []
    },
    {
      "cell_type": "markdown",
      "metadata": {
        "id": "Yagp3ez5PS0c"
      },
      "source": [
        "* 한 점을 구성하는 (x,y)의 좌표를 입력받고, 이 점이 (50,40), (50,80), (100,40), (100,80)을 꼭지점으로 하는 사각형 안에 있는지 판단하세요!!!"
      ]
    },
    {
      "cell_type": "code",
      "execution_count": null,
      "metadata": {
        "id": "X_T7oTCePS0c",
        "outputId": "1c1212aa-0332-4330-c466-94dc263232ed"
      },
      "outputs": [
        {
          "name": "stdout",
          "output_type": "stream",
          "text": [
            "x의 값을 입력하세요10\n",
            "y의 값을 입력하세요22\n",
            "밖에 있습니다.\n"
          ]
        }
      ],
      "source": []
    },
    {
      "cell_type": "markdown",
      "metadata": {
        "id": "iuDoPoBXPS0c"
      },
      "source": [
        "* Q) 입력한 수의 각 자리수를 더하는 프로그램을 작성하시오.  \n",
        "예 : 12345--> 1+2+3+4+5=15"
      ]
    },
    {
      "cell_type": "code",
      "execution_count": null,
      "metadata": {
        "id": "wVm9nuCMPS0c",
        "outputId": "d927da7f-5a8c-4f08-ed8b-7709d18efe74"
      },
      "outputs": [
        {
          "name": "stdout",
          "output_type": "stream",
          "text": [
            "입력하세요!!!2345\n",
            "14\n"
          ]
        }
      ],
      "source": []
    },
    {
      "cell_type": "markdown",
      "metadata": {
        "id": "XpItYLPHPS0c"
      },
      "source": [
        "* Q) a,b,c가 자연수 일때, a + b + c = 100을 만족하는 중복되지 않는 세 자연수의 개수를 구하는 프로그램을 작성하시오. 예를 들어서(30,40,30)은 (40,30,30)과 같은 경우라고 한다!!!!"
      ]
    },
    {
      "cell_type": "code",
      "execution_count": null,
      "metadata": {
        "id": "9AL9_604PS0c",
        "outputId": "cf30d86a-374d-4293-e8a2-85f3772bc8d5"
      },
      "outputs": [
        {
          "name": "stdout",
          "output_type": "stream",
          "text": [
            "833\n"
          ]
        }
      ],
      "source": []
    },
    {
      "cell_type": "markdown",
      "metadata": {
        "id": "ADB0AZAvPS0c"
      },
      "source": [
        "* Q) 1부터 100까지의 나열 할 때 1~9까지 숫자는 각각 몇 번 나타나는지를 세어 보세요!!!"
      ]
    },
    {
      "cell_type": "code",
      "execution_count": null,
      "metadata": {
        "id": "txWzm3mRPS0d",
        "outputId": "70db1960-df1f-44ed-c5d1-0fcec00b714b"
      },
      "outputs": [
        {
          "name": "stdout",
          "output_type": "stream",
          "text": [
            "0 : 11\n",
            "1 : 21\n",
            "2 : 20\n",
            "3 : 20\n",
            "4 : 20\n",
            "5 : 20\n",
            "6 : 20\n",
            "7 : 20\n",
            "8 : 20\n",
            "9 : 20\n"
          ]
        }
      ],
      "source": []
    },
    {
      "cell_type": "markdown",
      "metadata": {
        "id": "WvnBvScXPS0d"
      },
      "source": [
        "* Q) a = [20,55,67,82,45,33,90,87,100,25]점수일 때, 50점 이상인 점수들의 합!!!!!   \n",
        "방법 1 : for/ range사용,  \n",
        "방법 2 : for/ 직접 값 사용,  \n",
        "방법 3 : while사용"
      ]
    },
    {
      "cell_type": "code",
      "execution_count": 119,
      "metadata": {
        "id": "d0LuRbbbPS0d",
        "outputId": "1eae8ed3-df9d-456d-c10b-bdc2b6af39b6",
        "colab": {
          "base_uri": "https://localhost:8080/"
        }
      },
      "outputs": [
        {
          "output_type": "stream",
          "name": "stdout",
          "text": [
            "481\n"
          ]
        }
      ],
      "source": [
        "a = [20,55,67,82,45,33,90,87,100,25]\n",
        "# tot = 0\n",
        "# for i in range(len(a)):\n",
        "#   if a[i] >= 50:\n",
        "#     tot += a[i]\n",
        "#   else:\n",
        "#     pass\n",
        "# print(tot)\n",
        "\n",
        "# tot = 0\n",
        "# for i in a:\n",
        "#   if i >= 50:\n",
        "#     tot += 1\n",
        "#   else :\n",
        "#     pass\n",
        "\n",
        "# sum([i for i in a if i >= 50])    \n",
        "\n",
        "tot = 0\n",
        "cnt = 0\n",
        "len_a = len(a)\n",
        "# 이 상황에서는 a의 접근 인덱스로 활용 가능\n",
        "while cnt <len_a:\n",
        "  if a[cnt] >= 50:\n",
        "    tot += a[cnt]\n",
        "  else:\n",
        "    pass\n",
        "  cnt += 1\n",
        "print(tot)\n",
        " "
      ]
    },
    {
      "cell_type": "code",
      "execution_count": null,
      "metadata": {
        "id": "Z3GFvPvrPS0d"
      },
      "outputs": [],
      "source": []
    },
    {
      "cell_type": "markdown",
      "metadata": {
        "id": "O4iy5M1lPS0d"
      },
      "source": [
        "* Q) 1부터 100까지 3의 배수들의 합!!!!! for"
      ]
    },
    {
      "cell_type": "code",
      "execution_count": null,
      "metadata": {
        "id": "2Xi7qwkaPS0d"
      },
      "outputs": [],
      "source": []
    },
    {
      "cell_type": "markdown",
      "metadata": {
        "id": "kCABzPCiPS0d"
      },
      "source": [
        "* Q)1부터 100까지 3의 배수들의 합!!!!! while"
      ]
    },
    {
      "cell_type": "code",
      "execution_count": null,
      "metadata": {
        "id": "GPjATm-1PS0d"
      },
      "outputs": [],
      "source": []
    },
    {
      "cell_type": "markdown",
      "metadata": {
        "id": "B-coPBW7PS0d"
      },
      "source": [
        "* 야구 게임 : 1S 1B 1O에 대한 것을 만들어 보시오. 다만 처음에 하기 위해서는 random으로 시작을 해야함!!! -> 단, 처음에 지정하는 3개의 숫자는 동일하지 않음!!!3개의 수는 서로 다 다르다!"
      ]
    },
    {
      "cell_type": "code",
      "execution_count": 136,
      "metadata": {
        "id": "RxaORsikPS0d",
        "outputId": "7d99166b-1eab-4c82-c76b-d42d875ec015",
        "colab": {
          "base_uri": "https://localhost:8080/",
          "height": 499
        }
      },
      "outputs": [
        {
          "name": "stdout",
          "output_type": "stream",
          "text": [
            "첫번째 생각한 수를 입력하세요,134\n",
            "두번째 생각한 수를 입력하세요,2\n",
            "세번째 생각한 수를 입력하세요,3\n",
            "ball: 1 strike: 0\n",
            "첫번째 생각한 수를 입력하세요,1\n",
            "두번째 생각한 수를 입력하세요,5\n",
            "세번째 생각한 수를 입력하세요,3\n",
            "ball: 0 strike: 0\n",
            "첫번째 생각한 수를 입력하세요,2\n",
            "두번째 생각한 수를 입력하세요,4\n",
            "세번째 생각한 수를 입력하세요,5\n",
            "ball: 1 strike: 0\n",
            "첫번째 생각한 수를 입력하세요,6\n",
            "두번째 생각한 수를 입력하세요,\n"
          ]
        },
        {
          "output_type": "error",
          "ename": "ValueError",
          "evalue": "ignored",
          "traceback": [
            "\u001b[0;31m---------------------------------------------------------------------------\u001b[0m",
            "\u001b[0;31mValueError\u001b[0m                                Traceback (most recent call last)",
            "\u001b[0;32m<ipython-input-136-a648a1f201be>\u001b[0m in \u001b[0;36m<module>\u001b[0;34m\u001b[0m\n\u001b[1;32m     13\u001b[0m   \u001b[0;31m#사용자에게 입력할 수는?\u001b[0m\u001b[0;34m\u001b[0m\u001b[0;34m\u001b[0m\u001b[0;34m\u001b[0m\u001b[0m\n\u001b[1;32m     14\u001b[0m   \u001b[0mp\u001b[0m \u001b[0;34m=\u001b[0m \u001b[0mint\u001b[0m\u001b[0;34m(\u001b[0m\u001b[0minput\u001b[0m\u001b[0;34m(\u001b[0m\u001b[0;34m\"첫번째 생각한 수를 입력하세요,\"\u001b[0m\u001b[0;34m)\u001b[0m\u001b[0;34m)\u001b[0m\u001b[0;34m\u001b[0m\u001b[0;34m\u001b[0m\u001b[0m\n\u001b[0;32m---> 15\u001b[0;31m   \u001b[0mq\u001b[0m \u001b[0;34m=\u001b[0m \u001b[0mint\u001b[0m\u001b[0;34m(\u001b[0m\u001b[0minput\u001b[0m\u001b[0;34m(\u001b[0m\u001b[0;34m\"두번째 생각한 수를 입력하세요,\"\u001b[0m\u001b[0;34m)\u001b[0m\u001b[0;34m)\u001b[0m\u001b[0;34m\u001b[0m\u001b[0;34m\u001b[0m\u001b[0m\n\u001b[0m\u001b[1;32m     16\u001b[0m   \u001b[0mr\u001b[0m \u001b[0;34m=\u001b[0m \u001b[0mint\u001b[0m\u001b[0;34m(\u001b[0m\u001b[0minput\u001b[0m\u001b[0;34m(\u001b[0m\u001b[0;34m\"세번째 생각한 수를 입력하세요,\"\u001b[0m\u001b[0;34m)\u001b[0m\u001b[0;34m)\u001b[0m\u001b[0;34m\u001b[0m\u001b[0;34m\u001b[0m\u001b[0m\n\u001b[1;32m     17\u001b[0m   \u001b[0;31m#판별 --> 종료\u001b[0m\u001b[0;34m\u001b[0m\u001b[0;34m\u001b[0m\u001b[0;34m\u001b[0m\u001b[0m\n",
            "\u001b[0;31mValueError\u001b[0m: invalid literal for int() with base 10: ''"
          ]
        }
      ],
      "source": [
        "from random import randint\n",
        "while True :\n",
        "  # 숫자 3개를 각 변수로 세팅\n",
        "  a = randint(1,9)\n",
        "  b = randint(1,9)\n",
        "  c = randint(1,9)\n",
        "  if a != b and a!=c and b!=c:\n",
        "    break\n",
        "while True : #사용자가 맞추는 부분\n",
        "#필요한 변수가 몇 볼, 몇 스트라이크인지\n",
        "  ball = 0\n",
        "  strike = 0\n",
        "  #사용자에게 입력할 수는?\n",
        "  p = int(input(\"첫번째 생각한 수를 입력하세요,\"))\n",
        "  q = int(input(\"두번째 생각한 수를 입력하세요,\"))\n",
        "  r = int(input(\"세번째 생각한 수를 입력하세요,\"))\n",
        "  #판별 --> 종료\n",
        "  if (a == p) and (b == q) and (c==r):\n",
        "    print(\"축하합니다.\")\n",
        "    break\n",
        "  #볼에 대해서 처리\n",
        "  if (a==q) or (a==r) :\n",
        "    ball  += 1\n",
        "  else :\n",
        "    pass\n",
        "  if (b==p) or (b==r):\n",
        "    ball += 1\n",
        "  if (c==q) or (c==r):\n",
        "    ball += 1\n",
        "  #스타라이크에 대해서 처리\n",
        "  if a == p:\n",
        "    strike += 1\n",
        "  if b == q:\n",
        "    strike += 1\n",
        "  if c == r:\n",
        "    strike += 1\n",
        "\n",
        "  print(\"ball:\", ball, \"strike:\", strike)"
      ]
    },
    {
      "cell_type": "markdown",
      "metadata": {
        "id": "Z1G4-qlXPS0d"
      },
      "source": [
        "* Q)숫자 up/down으로 1~100까지 수 중에서 알아 맞추기!!! random이용!!!"
      ]
    },
    {
      "cell_type": "code",
      "execution_count": null,
      "metadata": {
        "id": "pTNCFYJrPS0d",
        "outputId": "622c0763-e576-421d-9244-ead0902ee824"
      },
      "outputs": [
        {
          "name": "stdout",
          "output_type": "stream",
          "text": [
            "1~100 숫자 Up & Down 게임을 시작합니다 !!!\n",
            "---------------------------\n",
            "1 ~ 100 사이의 숫자를 입력하세요 : 30\n",
            "Down\n",
            "1 ~ 100 사이의 숫자를 입력하세요 : 155\n",
            "Down\n",
            "1 ~ 100 사이의 숫자를 입력하세요 : 15\n",
            "Down\n",
            "1 ~ 100 사이의 숫자를 입력하세요 : 8\n",
            "Down\n",
            "1 ~ 100 사이의 숫자를 입력하세요 : 4\n",
            "Down\n",
            "1 ~ 100 사이의 숫자를 입력하세요 : 2\n",
            "---------------------------\n",
            "6 번 만에 정답을 맞추셨습니다.\n"
          ]
        }
      ],
      "source": [
        "import random\n",
        "\n"
      ]
    },
    {
      "cell_type": "markdown",
      "metadata": {
        "id": "hV2Svcx1PS0e"
      },
      "source": [
        "* Q) 1부터 입력받은 수까지 \"합의 제곱\"의 결과와 \"제곱의 합\"과의 차이를 구하시오!!!    \n",
        "합의 제곱 : 1^2 + 2^2 + ... + 10^2 = 385   \n",
        "제곱의 합 : (1+2+3..+10)^2 = 3025"
      ]
    },
    {
      "cell_type": "code",
      "execution_count": null,
      "metadata": {
        "id": "ygLyKwH6PS0e",
        "outputId": "fad6c52e-8fc5-4121-fb48-f8c88102012f"
      },
      "outputs": [
        {
          "name": "stdout",
          "output_type": "stream",
          "text": [
            "입력하세요!!!10\n",
            "2640\n"
          ]
        }
      ],
      "source": []
    },
    {
      "cell_type": "markdown",
      "metadata": {
        "id": "ouER2p4NPS0e"
      },
      "source": [
        "* Q)  핸드폰 번호 뒤에 4자리만 남기고, 앞의 7자리에 대한 것을 *로 지워보세요!!! (함수 만들어서!!!)"
      ]
    },
    {
      "cell_type": "code",
      "execution_count": null,
      "metadata": {
        "id": "lZxeDv-8PS0e"
      },
      "outputs": [],
      "source": []
    },
    {
      "cell_type": "code",
      "execution_count": null,
      "metadata": {
        "id": "R6bZ75U8PS0e",
        "outputId": "9137f5cf-c38a-4a85-f5f9-0f9c210dc193"
      },
      "outputs": [
        {
          "data": {
            "text/plain": [
              "'*********5678'"
            ]
          },
          "execution_count": 2,
          "metadata": {},
          "output_type": "execute_result"
        }
      ],
      "source": [
        "encryfunc(\"010-1234-5678\")"
      ]
    },
    {
      "cell_type": "code",
      "execution_count": null,
      "metadata": {
        "id": "TMQbiZSePS0e"
      },
      "outputs": [],
      "source": []
    },
    {
      "cell_type": "code",
      "execution_count": null,
      "metadata": {
        "id": "dxVTouXvPS0e"
      },
      "outputs": [],
      "source": []
    },
    {
      "cell_type": "code",
      "execution_count": null,
      "metadata": {
        "id": "bq5s_Hl7PS0e"
      },
      "outputs": [],
      "source": []
    }
  ],
  "metadata": {
    "kernelspec": {
      "display_name": "Python 3 (ipykernel)",
      "language": "python",
      "name": "python3"
    },
    "language_info": {
      "codemirror_mode": {
        "name": "ipython",
        "version": 3
      },
      "file_extension": ".py",
      "mimetype": "text/x-python",
      "name": "python",
      "nbconvert_exporter": "python",
      "pygments_lexer": "ipython3",
      "version": "3.9.12"
    },
    "toc": {
      "base_numbering": 1,
      "nav_menu": {},
      "number_sections": true,
      "sideBar": true,
      "skip_h1_title": false,
      "title_cell": "Table of Contents",
      "title_sidebar": "Contents",
      "toc_cell": false,
      "toc_position": {},
      "toc_section_display": true,
      "toc_window_display": false
    },
    "varInspector": {
      "cols": {
        "lenName": 16,
        "lenType": 16,
        "lenVar": 40
      },
      "kernels_config": {
        "python": {
          "delete_cmd_postfix": "",
          "delete_cmd_prefix": "del ",
          "library": "var_list.py",
          "varRefreshCmd": "print(var_dic_list())"
        },
        "r": {
          "delete_cmd_postfix": ") ",
          "delete_cmd_prefix": "rm(",
          "library": "var_list.r",
          "varRefreshCmd": "cat(var_dic_list()) "
        }
      },
      "types_to_exclude": [
        "module",
        "function",
        "builtin_function_or_method",
        "instance",
        "_Feature"
      ],
      "window_display": false
    },
    "colab": {
      "provenance": [],
      "collapsed_sections": [],
      "include_colab_link": true
    }
  },
  "nbformat": 4,
  "nbformat_minor": 0
}